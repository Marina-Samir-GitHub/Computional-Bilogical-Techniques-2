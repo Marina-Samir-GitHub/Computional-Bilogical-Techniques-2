{
 "cells": [
  {
   "cell_type": "code",
   "execution_count": 17,
   "id": "e6069851",
   "metadata": {},
   "outputs": [],
   "source": [
    "import cobra\n",
    "from cobra import Model ,Reaction ,Metabolite\n"
   ]
  },
  {
   "cell_type": "code",
   "execution_count": 2,
   "id": "2ee0a87e",
   "metadata": {},
   "outputs": [],
   "source": [
    "model = Model('Exercise')"
   ]
  },
  {
   "cell_type": "code",
   "execution_count": 3,
   "id": "e7c631d8",
   "metadata": {},
   "outputs": [],
   "source": [
    "###     =========>Gluc    ########\n",
    "GLUin =Reaction('GLUin')\n",
    "GLUin.name ='Glucose import'\n",
    "GLUin. lower_bound =1\n",
    "GLUin. lower_bound =1\n",
    "###GLuc +ATP=============>G6P +ADP +H\n",
    "HK =Reaction ('HK')\n",
    "HK.name ='Hexokinase'\n",
    "HK.lower_bound =0\n",
    "HK.lower_bound =1000\n",
    "######G6P<=================> F6P\n",
    "PGI =Reaction('PGI')\n",
    "PGI.name='GLucose 6-phosphate isomerase'\n",
    "PGI.lower_bound = 1000\n",
    "PGI.upper_bound =1000\n"
   ]
  },
  {
   "cell_type": "code",
   "execution_count": 4,
   "id": "68ee3ee4",
   "metadata": {},
   "outputs": [],
   "source": [
    "Gluc = Metabolite ('Gluc' ,formula= 'C6H12O6',name= 'Glucose', compartment ='c')\n",
    "ATP =Metabolite('ATP',formula ='C10H12N5O13P3',name='Adenosine tri -phosphate',compartment ='c')\n",
    "G6P =Metabolite ('G6P', formula='C6H13O9P',name= 'Glucose6-phosphat', compartment='c')\n",
    "ADP=Metabolite('ADP',formula='C10H15N5O10P2', name ='Adenosine di -phosphate',compartment='c')\n",
    "H= Metabolite('H', formula ='H', name='proton',compartment='c')\n",
    "F6P =Metabolite('F6P',formula ='C6H13O9P',name ='fructose 6-phosphate', compartment='c')\n"
   ]
  },
  {
   "cell_type": "code",
   "execution_count": 5,
   "id": "94e7421f",
   "metadata": {},
   "outputs": [],
   "source": [
    "GLUin.add_metabolites({ Gluc:1})\n",
    "HK.add_metabolites({Gluc:-1,ATP:-1,ADP:1,G6P:1,H:1})\n",
    "PGI.add_metabolites({G6P:-1,F6P:1})"
   ]
  },
  {
   "cell_type": "code",
   "execution_count": 6,
   "id": "f3087835",
   "metadata": {},
   "outputs": [],
   "source": [
    "model.add_reactions([GLUin,HK,PGI])\n"
   ]
  },
  {
   "cell_type": "code",
   "execution_count": 12,
   "id": "9d9a41a8",
   "metadata": {},
   "outputs": [],
   "source": [
    "cobra.io.save_json_model(model,\"test3.json\")"
   ]
  },
  {
   "cell_type": "code",
   "execution_count": 13,
   "id": "4d9056a4",
   "metadata": {},
   "outputs": [
    {
     "name": "stdout",
     "output_type": "stream",
     "text": [
      "Requirement already satisfied: escher in c:\\users\\hp\\anaconda3\\lib\\site-packages (1.7.3)\n",
      "Requirement already satisfied: cobra>=0.5.0 in c:\\users\\hp\\anaconda3\\lib\\site-packages (from escher) (0.24.0)\n",
      "Requirement already satisfied: pytest<5,>=4.0.1 in c:\\users\\hp\\anaconda3\\lib\\site-packages (from escher) (4.6.11)\n",
      "Requirement already satisfied: jsonschema<4,>=3.0.1 in c:\\users\\hp\\anaconda3\\lib\\site-packages (from escher) (3.2.0)\n",
      "Requirement already satisfied: Jinja2<3,>=2.7.3 in c:\\users\\hp\\anaconda3\\lib\\site-packages (from escher) (2.11.3)\n",
      "Requirement already satisfied: ipywidgets<8,>=7.4.0 in c:\\users\\hp\\anaconda3\\lib\\site-packages (from escher) (7.6.3)\n",
      "Requirement already satisfied: pandas>=0.18 in c:\\users\\hp\\anaconda3\\lib\\site-packages (from escher) (1.2.4)\n",
      "Requirement already satisfied: httpx~=0.14 in c:\\users\\hp\\anaconda3\\lib\\site-packages (from cobra>=0.5.0->escher) (0.22.0)\n",
      "Requirement already satisfied: numpy~=1.13 in c:\\users\\hp\\anaconda3\\lib\\site-packages (from cobra>=0.5.0->escher) (1.20.1)\n",
      "Requirement already satisfied: pydantic~=1.6 in c:\\users\\hp\\anaconda3\\lib\\site-packages (from cobra>=0.5.0->escher) (1.9.0)\n",
      "Requirement already satisfied: appdirs~=1.4 in c:\\users\\hp\\anaconda3\\lib\\site-packages (from cobra>=0.5.0->escher) (1.4.4)\n",
      "Requirement already satisfied: diskcache~=5.0 in c:\\users\\hp\\anaconda3\\lib\\site-packages (from cobra>=0.5.0->escher) (5.4.0)\n",
      "Requirement already satisfied: python-libsbml==5.19.2 in c:\\users\\hp\\anaconda3\\lib\\site-packages (from cobra>=0.5.0->escher) (5.19.2)\n",
      "Requirement already satisfied: rich>=8.0 in c:\\users\\hp\\anaconda3\\lib\\site-packages (from cobra>=0.5.0->escher) (11.2.0)\n",
      "Requirement already satisfied: depinfo~=1.7 in c:\\users\\hp\\anaconda3\\lib\\site-packages (from cobra>=0.5.0->escher) (1.7.0)\n",
      "Requirement already satisfied: ruamel.yaml~=0.16 in c:\\users\\hp\\anaconda3\\lib\\site-packages (from cobra>=0.5.0->escher) (0.17.21)\n",
      "Requirement already satisfied: future in c:\\users\\hp\\anaconda3\\lib\\site-packages (from cobra>=0.5.0->escher) (0.18.2)\n",
      "Requirement already satisfied: swiglpk in c:\\users\\hp\\anaconda3\\lib\\site-packages (from cobra>=0.5.0->escher) (5.0.4)\n",
      "Requirement already satisfied: importlib-resources in c:\\users\\hp\\anaconda3\\lib\\site-packages (from cobra>=0.5.0->escher) (5.4.0)\n",
      "Requirement already satisfied: optlang~=1.5 in c:\\users\\hp\\anaconda3\\lib\\site-packages (from cobra>=0.5.0->escher) (1.5.2)\n",
      "Requirement already satisfied: httpcore<0.15.0,>=0.14.5 in c:\\users\\hp\\anaconda3\\lib\\site-packages (from httpx~=0.14->cobra>=0.5.0->escher) (0.14.7)\n",
      "Requirement already satisfied: sniffio in c:\\users\\hp\\anaconda3\\lib\\site-packages (from httpx~=0.14->cobra>=0.5.0->escher) (1.2.0)\n",
      "Requirement already satisfied: rfc3986[idna2008]<2,>=1.3 in c:\\users\\hp\\anaconda3\\lib\\site-packages (from httpx~=0.14->cobra>=0.5.0->escher) (1.5.0)\n",
      "Requirement already satisfied: certifi in c:\\users\\hp\\anaconda3\\lib\\site-packages (from httpx~=0.14->cobra>=0.5.0->escher) (2020.12.5)\n",
      "Requirement already satisfied: charset-normalizer in c:\\users\\hp\\anaconda3\\lib\\site-packages (from httpx~=0.14->cobra>=0.5.0->escher) (2.0.12)\n",
      "Requirement already satisfied: h11<0.13,>=0.11 in c:\\users\\hp\\anaconda3\\lib\\site-packages (from httpcore<0.15.0,>=0.14.5->httpx~=0.14->cobra>=0.5.0->escher) (0.12.0)\n",
      "Requirement already satisfied: anyio==3.* in c:\\users\\hp\\anaconda3\\lib\\site-packages (from httpcore<0.15.0,>=0.14.5->httpx~=0.14->cobra>=0.5.0->escher) (3.5.0)\n",
      "Requirement already satisfied: idna>=2.8 in c:\\users\\hp\\anaconda3\\lib\\site-packages (from anyio==3.*->httpcore<0.15.0,>=0.14.5->httpx~=0.14->cobra>=0.5.0->escher) (2.10)\n",
      "Requirement already satisfied: ipykernel>=4.5.1 in c:\\users\\hp\\anaconda3\\lib\\site-packages (from ipywidgets<8,>=7.4.0->escher) (5.3.4)\n",
      "Requirement already satisfied: nbformat>=4.2.0 in c:\\users\\hp\\anaconda3\\lib\\site-packages (from ipywidgets<8,>=7.4.0->escher) (5.1.3)\n",
      "Requirement already satisfied: jupyterlab-widgets>=1.0.0 in c:\\users\\hp\\anaconda3\\lib\\site-packages (from ipywidgets<8,>=7.4.0->escher) (1.0.0)\n",
      "Requirement already satisfied: traitlets>=4.3.1 in c:\\users\\hp\\anaconda3\\lib\\site-packages (from ipywidgets<8,>=7.4.0->escher) (5.0.5)\n",
      "Requirement already satisfied: widgetsnbextension~=3.5.0 in c:\\users\\hp\\anaconda3\\lib\\site-packages (from ipywidgets<8,>=7.4.0->escher) (3.5.1)\n",
      "Requirement already satisfied: ipython>=4.0.0 in c:\\users\\hp\\anaconda3\\lib\\site-packages (from ipywidgets<8,>=7.4.0->escher) (7.22.0)\n",
      "Requirement already satisfied: tornado>=4.2 in c:\\users\\hp\\anaconda3\\lib\\site-packages (from ipykernel>=4.5.1->ipywidgets<8,>=7.4.0->escher) (6.1)\n",
      "Requirement already satisfied: jupyter-client in c:\\users\\hp\\anaconda3\\lib\\site-packages (from ipykernel>=4.5.1->ipywidgets<8,>=7.4.0->escher) (6.1.12)\n",
      "Requirement already satisfied: decorator in c:\\users\\hp\\anaconda3\\lib\\site-packages (from ipython>=4.0.0->ipywidgets<8,>=7.4.0->escher) (5.0.6)\n",
      "Requirement already satisfied: jedi>=0.16 in c:\\users\\hp\\anaconda3\\lib\\site-packages (from ipython>=4.0.0->ipywidgets<8,>=7.4.0->escher) (0.17.2)\n",
      "Requirement already satisfied: pickleshare in c:\\users\\hp\\anaconda3\\lib\\site-packages (from ipython>=4.0.0->ipywidgets<8,>=7.4.0->escher) (0.7.5)\n",
      "Requirement already satisfied: prompt-toolkit!=3.0.0,!=3.0.1,<3.1.0,>=2.0.0 in c:\\users\\hp\\anaconda3\\lib\\site-packages (from ipython>=4.0.0->ipywidgets<8,>=7.4.0->escher) (3.0.17)\n",
      "Requirement already satisfied: backcall in c:\\users\\hp\\anaconda3\\lib\\site-packages (from ipython>=4.0.0->ipywidgets<8,>=7.4.0->escher) (0.2.0)\n",
      "Requirement already satisfied: setuptools>=18.5 in c:\\users\\hp\\anaconda3\\lib\\site-packages (from ipython>=4.0.0->ipywidgets<8,>=7.4.0->escher) (52.0.0.post20210125)\n",
      "Requirement already satisfied: colorama in c:\\users\\hp\\anaconda3\\lib\\site-packages (from ipython>=4.0.0->ipywidgets<8,>=7.4.0->escher) (0.4.4)\n",
      "Requirement already satisfied: pygments in c:\\users\\hp\\anaconda3\\lib\\site-packages (from ipython>=4.0.0->ipywidgets<8,>=7.4.0->escher) (2.8.1)\n",
      "Requirement already satisfied: parso<0.8.0,>=0.7.0 in c:\\users\\hp\\anaconda3\\lib\\site-packages (from jedi>=0.16->ipython>=4.0.0->ipywidgets<8,>=7.4.0->escher) (0.7.0)\n",
      "Requirement already satisfied: MarkupSafe>=0.23 in c:\\users\\hp\\anaconda3\\lib\\site-packages (from Jinja2<3,>=2.7.3->escher) (1.1.1)\n",
      "Requirement already satisfied: pyrsistent>=0.14.0 in c:\\users\\hp\\anaconda3\\lib\\site-packages (from jsonschema<4,>=3.0.1->escher) (0.17.3)\n",
      "Requirement already satisfied: six>=1.11.0 in c:\\users\\hp\\anaconda3\\lib\\site-packages (from jsonschema<4,>=3.0.1->escher) (1.15.0)\n",
      "Requirement already satisfied: attrs>=17.4.0 in c:\\users\\hp\\anaconda3\\lib\\site-packages (from jsonschema<4,>=3.0.1->escher) (20.3.0)\n",
      "Requirement already satisfied: ipython-genutils in c:\\users\\hp\\anaconda3\\lib\\site-packages (from nbformat>=4.2.0->ipywidgets<8,>=7.4.0->escher) (0.2.0)\n",
      "Requirement already satisfied: jupyter-core in c:\\users\\hp\\anaconda3\\lib\\site-packages (from nbformat>=4.2.0->ipywidgets<8,>=7.4.0->escher) (4.7.1)\n",
      "Requirement already satisfied: sympy>=1.0 in c:\\users\\hp\\anaconda3\\lib\\site-packages (from optlang~=1.5->cobra>=0.5.0->escher) (1.8)\n",
      "Requirement already satisfied: python-dateutil>=2.7.3 in c:\\users\\hp\\anaconda3\\lib\\site-packages (from pandas>=0.18->escher) (2.8.1)\n",
      "Requirement already satisfied: pytz>=2017.3 in c:\\users\\hp\\anaconda3\\lib\\site-packages (from pandas>=0.18->escher) (2021.1)\n",
      "Requirement already satisfied: wcwidth in c:\\users\\hp\\anaconda3\\lib\\site-packages (from prompt-toolkit!=3.0.0,!=3.0.1,<3.1.0,>=2.0.0->ipython>=4.0.0->ipywidgets<8,>=7.4.0->escher) (0.2.5)\n",
      "Requirement already satisfied: typing-extensions>=3.7.4.3 in c:\\users\\hp\\anaconda3\\lib\\site-packages (from pydantic~=1.6->cobra>=0.5.0->escher) (3.7.4.3)\n",
      "Requirement already satisfied: atomicwrites>=1.0 in c:\\users\\hp\\anaconda3\\lib\\site-packages (from pytest<5,>=4.0.1->escher) (1.4.0)\n",
      "Requirement already satisfied: more-itertools>=4.0.0 in c:\\users\\hp\\anaconda3\\lib\\site-packages (from pytest<5,>=4.0.1->escher) (8.7.0)\n",
      "Requirement already satisfied: py>=1.5.0 in c:\\users\\hp\\anaconda3\\lib\\site-packages (from pytest<5,>=4.0.1->escher) (1.10.0)\n",
      "Requirement already satisfied: packaging in c:\\users\\hp\\anaconda3\\lib\\site-packages (from pytest<5,>=4.0.1->escher) (20.9)\n",
      "Requirement already satisfied: pluggy<1.0,>=0.12 in c:\\users\\hp\\anaconda3\\lib\\site-packages (from pytest<5,>=4.0.1->escher) (0.13.1)\n",
      "Requirement already satisfied: commonmark<0.10.0,>=0.9.0 in c:\\users\\hp\\anaconda3\\lib\\site-packages (from rich>=8.0->cobra>=0.5.0->escher) (0.9.1)\n",
      "Requirement already satisfied: ruamel.yaml.clib>=0.2.6 in c:\\users\\hp\\anaconda3\\lib\\site-packages (from ruamel.yaml~=0.16->cobra>=0.5.0->escher) (0.2.6)\n",
      "Requirement already satisfied: mpmath>=0.19 in c:\\users\\hp\\anaconda3\\lib\\site-packages (from sympy>=1.0->optlang~=1.5->cobra>=0.5.0->escher) (1.2.1)\n",
      "Requirement already satisfied: notebook>=4.4.1 in c:\\users\\hp\\anaconda3\\lib\\site-packages (from widgetsnbextension~=3.5.0->ipywidgets<8,>=7.4.0->escher) (6.3.0)\n",
      "Requirement already satisfied: Send2Trash>=1.5.0 in c:\\users\\hp\\anaconda3\\lib\\site-packages (from notebook>=4.4.1->widgetsnbextension~=3.5.0->ipywidgets<8,>=7.4.0->escher) (1.5.0)\n",
      "Requirement already satisfied: prometheus-client in c:\\users\\hp\\anaconda3\\lib\\site-packages (from notebook>=4.4.1->widgetsnbextension~=3.5.0->ipywidgets<8,>=7.4.0->escher) (0.10.1)\n",
      "Requirement already satisfied: nbconvert in c:\\users\\hp\\anaconda3\\lib\\site-packages (from notebook>=4.4.1->widgetsnbextension~=3.5.0->ipywidgets<8,>=7.4.0->escher) (6.0.7)\n",
      "Requirement already satisfied: pyzmq>=17 in c:\\users\\hp\\anaconda3\\lib\\site-packages (from notebook>=4.4.1->widgetsnbextension~=3.5.0->ipywidgets<8,>=7.4.0->escher) (20.0.0)\n",
      "Requirement already satisfied: terminado>=0.8.3 in c:\\users\\hp\\anaconda3\\lib\\site-packages (from notebook>=4.4.1->widgetsnbextension~=3.5.0->ipywidgets<8,>=7.4.0->escher) (0.9.4)\n",
      "Requirement already satisfied: argon2-cffi in c:\\users\\hp\\anaconda3\\lib\\site-packages (from notebook>=4.4.1->widgetsnbextension~=3.5.0->ipywidgets<8,>=7.4.0->escher) (20.1.0)\n",
      "Requirement already satisfied: pywin32>=1.0 in c:\\users\\hp\\anaconda3\\lib\\site-packages (from jupyter-core->nbformat>=4.2.0->ipywidgets<8,>=7.4.0->escher) (227)\n",
      "Requirement already satisfied: pywinpty>=0.5 in c:\\users\\hp\\anaconda3\\lib\\site-packages (from terminado>=0.8.3->notebook>=4.4.1->widgetsnbextension~=3.5.0->ipywidgets<8,>=7.4.0->escher) (0.5.7)\n",
      "Requirement already satisfied: cffi>=1.0.0 in c:\\users\\hp\\anaconda3\\lib\\site-packages (from argon2-cffi->notebook>=4.4.1->widgetsnbextension~=3.5.0->ipywidgets<8,>=7.4.0->escher) (1.14.5)\n",
      "Requirement already satisfied: pycparser in c:\\users\\hp\\anaconda3\\lib\\site-packages (from cffi>=1.0.0->argon2-cffi->notebook>=4.4.1->widgetsnbextension~=3.5.0->ipywidgets<8,>=7.4.0->escher) (2.20)\n",
      "Requirement already satisfied: zipp>=3.1.0 in c:\\users\\hp\\anaconda3\\lib\\site-packages (from importlib-resources->cobra>=0.5.0->escher) (3.4.1)\n",
      "Requirement already satisfied: jupyterlab-pygments in c:\\users\\hp\\anaconda3\\lib\\site-packages (from nbconvert->notebook>=4.4.1->widgetsnbextension~=3.5.0->ipywidgets<8,>=7.4.0->escher) (0.1.2)\n",
      "Requirement already satisfied: defusedxml in c:\\users\\hp\\anaconda3\\lib\\site-packages (from nbconvert->notebook>=4.4.1->widgetsnbextension~=3.5.0->ipywidgets<8,>=7.4.0->escher) (0.7.1)\n",
      "Requirement already satisfied: testpath in c:\\users\\hp\\anaconda3\\lib\\site-packages (from nbconvert->notebook>=4.4.1->widgetsnbextension~=3.5.0->ipywidgets<8,>=7.4.0->escher) (0.4.4)\n",
      "Requirement already satisfied: bleach in c:\\users\\hp\\anaconda3\\lib\\site-packages (from nbconvert->notebook>=4.4.1->widgetsnbextension~=3.5.0->ipywidgets<8,>=7.4.0->escher) (3.3.0)\n",
      "Requirement already satisfied: mistune<2,>=0.8.1 in c:\\users\\hp\\anaconda3\\lib\\site-packages (from nbconvert->notebook>=4.4.1->widgetsnbextension~=3.5.0->ipywidgets<8,>=7.4.0->escher) (0.8.4)\n",
      "Requirement already satisfied: entrypoints>=0.2.2 in c:\\users\\hp\\anaconda3\\lib\\site-packages (from nbconvert->notebook>=4.4.1->widgetsnbextension~=3.5.0->ipywidgets<8,>=7.4.0->escher) (0.3)\n",
      "Requirement already satisfied: nbclient<0.6.0,>=0.5.0 in c:\\users\\hp\\anaconda3\\lib\\site-packages (from nbconvert->notebook>=4.4.1->widgetsnbextension~=3.5.0->ipywidgets<8,>=7.4.0->escher) (0.5.3)\n",
      "Requirement already satisfied: pandocfilters>=1.4.1 in c:\\users\\hp\\anaconda3\\lib\\site-packages (from nbconvert->notebook>=4.4.1->widgetsnbextension~=3.5.0->ipywidgets<8,>=7.4.0->escher) (1.4.3)\n",
      "Requirement already satisfied: async-generator in c:\\users\\hp\\anaconda3\\lib\\site-packages (from nbclient<0.6.0,>=0.5.0->nbconvert->notebook>=4.4.1->widgetsnbextension~=3.5.0->ipywidgets<8,>=7.4.0->escher) (1.10)\n",
      "Requirement already satisfied: nest-asyncio in c:\\users\\hp\\anaconda3\\lib\\site-packages (from nbclient<0.6.0,>=0.5.0->nbconvert->notebook>=4.4.1->widgetsnbextension~=3.5.0->ipywidgets<8,>=7.4.0->escher) (1.5.1)\n",
      "Requirement already satisfied: webencodings in c:\\users\\hp\\anaconda3\\lib\\site-packages (from bleach->nbconvert->notebook>=4.4.1->widgetsnbextension~=3.5.0->ipywidgets<8,>=7.4.0->escher) (0.5.1)\n",
      "Requirement already satisfied: pyparsing>=2.0.2 in c:\\users\\hp\\anaconda3\\lib\\site-packages (from packaging->pytest<5,>=4.0.1->escher) (2.4.7)\n"
     ]
    }
   ],
   "source": [
    "!pip install escher"
   ]
  },
  {
   "cell_type": "code",
   "execution_count": 19,
   "id": "d262d60a",
   "metadata": {},
   "outputs": [
    {
     "data": {
      "application/vnd.jupyter.widget-view+json": {
       "model_id": "22e4abb897b7448f95d2411b001a860a",
       "version_major": 2,
       "version_minor": 0
      },
      "text/plain": [
       "Builder()"
      ]
     },
     "metadata": {},
     "output_type": "display_data"
    }
   ],
   "source": [
    "import escher\n",
    "\n",
    "from escher import Builder\n",
    "cobra.io.load_json_model(\"test3.json\")\n",
    "builder= Builder()\n",
    "builder"
   ]
  }
 ],
 "metadata": {
  "kernelspec": {
   "display_name": "Python 3",
   "language": "python",
   "name": "python3"
  },
  "language_info": {
   "codemirror_mode": {
    "name": "ipython",
    "version": 3
   },
   "file_extension": ".py",
   "mimetype": "text/x-python",
   "name": "python",
   "nbconvert_exporter": "python",
   "pygments_lexer": "ipython3",
   "version": "3.8.8"
  }
 },
 "nbformat": 4,
 "nbformat_minor": 5
}
