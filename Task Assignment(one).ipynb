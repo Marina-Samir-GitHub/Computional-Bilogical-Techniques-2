{
 "cells": [
  {
   "cell_type": "code",
   "execution_count": 18,
   "id": "510bef41",
   "metadata": {},
   "outputs": [],
   "source": [
    "import cobra"
   ]
  },
  {
   "cell_type": "code",
   "execution_count": 19,
   "id": "1694b825",
   "metadata": {},
   "outputs": [],
   "source": [
    "from cobra import Model,Reaction,Metabolite"
   ]
  },
  {
   "cell_type": "code",
   "execution_count": 20,
   "id": "7c289da0",
   "metadata": {},
   "outputs": [],
   "source": [
    "model=Model('Exercise1')\n",
    "#### v1 : A=====> B ###\n",
    "\n",
    "v1=Reaction('v1')\n",
    "v1.name='V1'\n",
    "v1.lower_bound=0\n",
    "v1.upper_bound=1000\n",
    "\n",
    "#### v2 : B=====> c ###\n",
    "\n",
    "\n",
    "v2=Reaction('v2')\n",
    "v2.name='V2'\n",
    "v2.lower_bound=0\n",
    "v2.upper_bound=1000"
   ]
  },
  {
   "cell_type": "code",
   "execution_count": 21,
   "id": "4fd35564",
   "metadata": {},
   "outputs": [],
   "source": [
    "###### R1 : =====> A ###\n",
    "\n",
    "R1=Reaction('R1')\n",
    "R1.name='R1'\n",
    "R1.lower_bound=1\n",
    "R1.upper_bound=1"
   ]
  },
  {
   "cell_type": "code",
   "execution_count": 22,
   "id": "78570374",
   "metadata": {},
   "outputs": [],
   "source": [
    "###### L : C=====>  ####\n",
    "\n",
    "\n",
    "L=Reaction('L')\n",
    "L.name='L'\n",
    "L.lower_bound=0\n",
    "L.upper_bound=1000"
   ]
  },
  {
   "cell_type": "code",
   "execution_count": 23,
   "id": "993779e5",
   "metadata": {},
   "outputs": [],
   "source": [
    "###### R2 : A=====>r  ####\n",
    "\n",
    "R2=Reaction('R2')\n",
    "R2.name='R2'\n",
    "R2.lower_bound=0\n",
    "R2.upper_bound=1000"
   ]
  },
  {
   "cell_type": "code",
   "execution_count": 24,
   "id": "11444eb5",
   "metadata": {},
   "outputs": [],
   "source": [
    "###### R3: r=====>  ####\n",
    "\n",
    "R3=Reaction('R3')\n",
    "R3.name='R3'\n",
    "R3.lower_bound=0\n",
    "R3.upper_bound=1000"
   ]
  },
  {
   "cell_type": "code",
   "execution_count": 25,
   "id": "98036822",
   "metadata": {},
   "outputs": [],
   "source": [
    "A= Metabolite(\n",
    "    'A',compartment='c')\n",
    "B=Metabolite(\n",
    "    'B',compartment='c')\n",
    "C= Metabolite(\n",
    "    'C',compartment='c')"
   ]
  },
  {
   "cell_type": "code",
   "execution_count": 26,
   "id": "e4a022ec",
   "metadata": {},
   "outputs": [],
   "source": [
    "ATP= Metabolite(\n",
    "    'ATP',compartment='c')"
   ]
  },
  {
   "cell_type": "code",
   "execution_count": 27,
   "id": "61b9c333",
   "metadata": {},
   "outputs": [],
   "source": [
    "### Add metaolites in Reactions v1,v2,R1,R2,R3,L###\n",
    "\n",
    "\n",
    "v1.add_metabolites({A:-1,B:1})\n",
    "\n",
    "\n",
    "v2.add_metabolites({B:-1,C:1})"
   ]
  },
  {
   "cell_type": "code",
   "execution_count": 28,
   "id": "3c33fb9c",
   "metadata": {},
   "outputs": [],
   "source": [
    "R1.add_metabolites({A:1})\n",
    "L.add_metabolites({C:-1})"
   ]
  },
  {
   "cell_type": "code",
   "execution_count": 29,
   "id": "afa501ee",
   "metadata": {},
   "outputs": [],
   "source": [
    "R2.add_metabolites({A:-1,ATP:1})\n"
   ]
  },
  {
   "cell_type": "code",
   "execution_count": 30,
   "id": "ff4b1e11",
   "metadata": {},
   "outputs": [],
   "source": [
    "R3.add_metabolites({ATP:-1})"
   ]
  },
  {
   "cell_type": "code",
   "execution_count": 31,
   "id": "a66271ef",
   "metadata": {},
   "outputs": [],
   "source": [
    "###### Add reactions in model  #########\n",
    "model.add_reactions([R1,v1,R2,v2,R3,L])"
   ]
  },
  {
   "cell_type": "code",
   "execution_count": 32,
   "id": "f23ab9d3",
   "metadata": {},
   "outputs": [],
   "source": [
    "###### Put L as a objective function  ###################################\n",
    "\n",
    "model.objective = 'L'"
   ]
  },
  {
   "cell_type": "code",
   "execution_count": 33,
   "id": "41be3c97",
   "metadata": {},
   "outputs": [
    {
     "data": {
      "text/html": [
       "<strong><em>Optimal</em> solution with objective value 1.000</strong><br><div>\n",
       "<style scoped>\n",
       "    .dataframe tbody tr th:only-of-type {\n",
       "        vertical-align: middle;\n",
       "    }\n",
       "\n",
       "    .dataframe tbody tr th {\n",
       "        vertical-align: top;\n",
       "    }\n",
       "\n",
       "    .dataframe thead th {\n",
       "        text-align: right;\n",
       "    }\n",
       "</style>\n",
       "<table border=\"1\" class=\"dataframe\">\n",
       "  <thead>\n",
       "    <tr style=\"text-align: right;\">\n",
       "      <th></th>\n",
       "      <th>fluxes</th>\n",
       "      <th>reduced_costs</th>\n",
       "    </tr>\n",
       "  </thead>\n",
       "  <tbody>\n",
       "    <tr>\n",
       "      <th>R1</th>\n",
       "      <td>1.0</td>\n",
       "      <td>2.0</td>\n",
       "    </tr>\n",
       "    <tr>\n",
       "      <th>v1</th>\n",
       "      <td>1.0</td>\n",
       "      <td>0.0</td>\n",
       "    </tr>\n",
       "    <tr>\n",
       "      <th>R2</th>\n",
       "      <td>0.0</td>\n",
       "      <td>0.0</td>\n",
       "    </tr>\n",
       "    <tr>\n",
       "      <th>v2</th>\n",
       "      <td>1.0</td>\n",
       "      <td>0.0</td>\n",
       "    </tr>\n",
       "    <tr>\n",
       "      <th>R3</th>\n",
       "      <td>0.0</td>\n",
       "      <td>-2.0</td>\n",
       "    </tr>\n",
       "    <tr>\n",
       "      <th>L</th>\n",
       "      <td>1.0</td>\n",
       "      <td>0.0</td>\n",
       "    </tr>\n",
       "  </tbody>\n",
       "</table>\n",
       "</div>"
      ],
      "text/plain": [
       "<Solution 1.000 at 0x1a25a7667c0>"
      ]
     },
     "execution_count": 33,
     "metadata": {},
     "output_type": "execute_result"
    }
   ],
   "source": [
    "model.optimize()"
   ]
  },
  {
   "cell_type": "code",
   "execution_count": 34,
   "id": "a16b0dec",
   "metadata": {},
   "outputs": [
    {
     "data": {
      "text/html": [
       "<h3>Objective</h3><p>1.0 L = 1.0</p><h4>Uptake</h4><table border=\"1\" class=\"dataframe\">\n",
       "  <thead>\n",
       "    <tr style=\"text-align: right;\">\n",
       "      <th>Metabolite</th>\n",
       "      <th>Reaction</th>\n",
       "      <th>Flux</th>\n",
       "      <th>C-Number</th>\n",
       "      <th>C-Flux</th>\n",
       "    </tr>\n",
       "  </thead>\n",
       "  <tbody>\n",
       "    <tr>\n",
       "      <td>A</td>\n",
       "      <td>R1</td>\n",
       "      <td>1</td>\n",
       "      <td>0</td>\n",
       "      <td>0.00%</td>\n",
       "    </tr>\n",
       "  </tbody>\n",
       "</table><h4>Secretion</h4><table border=\"1\" class=\"dataframe\">\n",
       "  <thead>\n",
       "    <tr style=\"text-align: right;\">\n",
       "      <th>Metabolite</th>\n",
       "      <th>Reaction</th>\n",
       "      <th>Flux</th>\n",
       "      <th>C-Number</th>\n",
       "      <th>C-Flux</th>\n",
       "    </tr>\n",
       "  </thead>\n",
       "  <tbody>\n",
       "    <tr>\n",
       "      <td>C</td>\n",
       "      <td>L</td>\n",
       "      <td>-1</td>\n",
       "      <td>0</td>\n",
       "      <td>0.00%</td>\n",
       "    </tr>\n",
       "  </tbody>\n",
       "</table>"
      ],
      "text/plain": [
       "<cobra.summary.model_summary.ModelSummary at 0x1a25a7669a0>"
      ]
     },
     "execution_count": 34,
     "metadata": {},
     "output_type": "execute_result"
    }
   ],
   "source": [
    "model.summary()"
   ]
  }
 ],
 "metadata": {
  "kernelspec": {
   "display_name": "Python 3",
   "language": "python",
   "name": "python3"
  },
  "language_info": {
   "codemirror_mode": {
    "name": "ipython",
    "version": 3
   },
   "file_extension": ".py",
   "mimetype": "text/x-python",
   "name": "python",
   "nbconvert_exporter": "python",
   "pygments_lexer": "ipython3",
   "version": "3.8.8"
  }
 },
 "nbformat": 4,
 "nbformat_minor": 5
}
